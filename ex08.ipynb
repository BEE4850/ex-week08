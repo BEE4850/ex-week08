{
  "cells": [
    {
      "cell_type": "markdown",
      "metadata": {},
      "source": [
        "# Exercise Set 08: The Bootstrap\n",
        "\n",
        "BEE 4850/5850, Fall 2024\n",
        "\n",
        "**Name**:\n",
        "\n",
        "**ID**:\n",
        "\n",
        "> **Due Date**\n",
        ">\n",
        "> Friday, 3/15/24, 9:00pm\n",
        "\n",
        "## Overview"
      ],
      "id": "756bab76-3bba-4659-9359-aeb44075c89c"
    },
    {
      "cell_type": "markdown",
      "metadata": {},
      "source": [
        "### Instructions\n",
        "\n",
        "The goal of this exercise is for you to explore the differences in the\n",
        "confidence intervals produced by a non-parametric and parametric\n",
        "bootstrap."
      ],
      "id": "f0d0b42a-626c-4091-a231-4f0538202669"
    },
    {
      "cell_type": "markdown",
      "metadata": {},
      "source": [
        "### Load Environment\n",
        "\n",
        "The following code loads the environment and makes sure all needed\n",
        "packages are installed. This should be at the start of most Julia\n",
        "scripts."
      ],
      "id": "d261f564-db65-4a5e-bff9-71059f67664e"
    },
    {
      "cell_type": "code",
      "execution_count": 1,
      "metadata": {},
      "outputs": [],
      "source": [
        "import Pkg\n",
        "Pkg.activate(@__DIR__)\n",
        "Pkg.instantiate()"
      ],
      "id": "f6b00530"
    },
    {
      "cell_type": "markdown",
      "metadata": {},
      "source": [
        "The following packages are included in the environment (to help you find\n",
        "other similar packages in other languages). The code below loads these\n",
        "packages for use in the subsequent notebook (the desired functionality\n",
        "for each package is commented next to the package)."
      ],
      "id": "7b6c641b-9889-440b-a6d7-9b119d3427bf"
    },
    {
      "cell_type": "code",
      "execution_count": 2,
      "metadata": {},
      "outputs": [],
      "source": [
        "using Distributions # API to work with statistical distributions\n",
        "using Plots # plotting library\n",
        "using StatsBase # statistical quantities like mean, median, etc\n",
        "using StatsPlots # some additional statistical plotting tools\n",
        "using DataFrames # tabular data storage\n",
        "using DataFramesMeta # API for chaining DataFrames commands\n",
        "using CSV # read/write CSV files\n",
        "using Random"
      ],
      "id": "52c60212"
    },
    {
      "cell_type": "markdown",
      "metadata": {},
      "source": [
        "## Problems\n",
        "\n",
        "### Problem 1\n",
        "\n",
        "Let’s revisit the 2015 Sewell’s Point tide gauge data, which consists of\n",
        "hourly observations and predicted sea-level based on NOAA’s harmonic\n",
        "model."
      ],
      "id": "8fb395f4-7ac1-4ccf-998e-220217d9a54b"
    },
    {
      "cell_type": "code",
      "execution_count": 3,
      "metadata": {},
      "outputs": [],
      "source": [
        "function load_data(fname)\n",
        "    date_format = \"yyyy-mm-dd HH:MM\"\n",
        "    # this uses the DataFramesMeta package -- it's pretty cool\n",
        "    return @chain fname begin\n",
        "        CSV.File(; dateformat=date_format)\n",
        "        DataFrame\n",
        "        rename(\n",
        "            \"Time (GMT)\" => \"time\", \"Predicted (m)\" => \"harmonic\", \"Verified (m)\" => \"gauge\"\n",
        "        )\n",
        "        @transform :datetime = (Date.(:Date, \"yyyy/mm/dd\") + Time.(:time))\n",
        "        select(:datetime, :gauge, :harmonic)\n",
        "        @transform :weather = :gauge - :harmonic\n",
        "        @transform :month = (month.(:datetime))\n",
        "    end\n",
        "end\n",
        "\n",
        "dat = load_data(\"data/surge/norfolk-hourly-surge-2015.csv\")"
      ],
      "id": "6707e5e6"
    },
    {
      "cell_type": "markdown",
      "metadata": {},
      "source": [
        "We detrend the data to isolate the weather-induced variability by\n",
        "subtracting the predictions from the observations; the results\n",
        "(following the Julia code) are in `dat[:, :weather]`."
      ],
      "id": "5692fe4a-41f1-49e2-b806-128718a4b3b1"
    },
    {
      "cell_type": "code",
      "execution_count": 4,
      "metadata": {},
      "outputs": [],
      "source": [
        "plot(dat.datetime, dat.weather; ylabel=\"Gauge Weather Variability (m)\", label=\"Detrended Data\", linewidth=1, legend=:topleft, xlabel=\"Date/Time\")"
      ],
      "id": "1e19362c"
    },
    {
      "cell_type": "markdown",
      "metadata": {},
      "source": [
        "We would like to understand the uncertainty in an estimate of the median\n",
        "level of weather-induced variability.\n",
        "\n",
        "**In this problem**:\n",
        "\n",
        "-   Use 1,000 non-parametric bootstrap samples to compute a 95%\n",
        "    confidence interval for the median.\n",
        "-   Assuming the weather-induced variability is independently and\n",
        "    identically distributed according to a normal distribution, compute\n",
        "    a 95% confidence interval using 1,000 parametric bootstrap samples.\n",
        "-   Compare the two confidence intervals.\n",
        "-   What can you say about the bias of the median as an estimator?"
      ],
      "id": "6b0b74b9-613a-479c-82c2-1ba49101f489"
    }
  ],
  "nbformat": 4,
  "nbformat_minor": 5,
  "metadata": {
    "kernelspec": {
      "name": "julia-1.9",
      "display_name": "Julia 1.9.4",
      "language": "julia"
    }
  }
}